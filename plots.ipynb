{
 "cells": [
  {
   "cell_type": "code",
   "execution_count": 3,
   "metadata": {
    "autoscroll": false,
    "collapsed": false,
    "ein.hycell": false,
    "ein.tags": "worksheet-0",
    "slideshow": {
     "slide_type": "-"
    }
   },
   "outputs": [],
   "source": [
    "import pandas as pd\n",
    "import matplotlib.pyplot as plt\n",
    "import matplotlib.ticker as mtick\n",
    "import numpy as np\n",
    "\n",
    "plt.rc('text', usetex=True)\n",
    "plt.rc('font', family='serif')"
   ]
  },
  {
   "cell_type": "code",
   "execution_count": 4,
   "metadata": {
    "autoscroll": false,
    "collapsed": false,
    "ein.hycell": false,
    "ein.tags": "worksheet-0",
    "slideshow": {
     "slide_type": "-"
    }
   },
   "outputs": [],
   "source": [
    "dtype = {\n",
    "    'rate-reason-deletions': 'Int64',\n",
    "    'rate-RAT-introductions': 'Int64',\n",
    "    'rate-RUP-introductions': 'Int64',\n",
    "}\n",
    "checkers = 'rate', 'rate-d', 'drat-trim', 'gratgen'\n",
    "df = pd.read_csv('results.csv', dtype=dtype)\n",
    "\n",
    "df['time-delta-rate-rate-d'] = df['rate-time'] - df['rate-d-time']\n",
    "df['time-delta-percent-rate-rate-d'] = (df['rate-time'] - df['rate-d-time']) / df['rate-time']\n",
    "df['space-delta-rate-rate-d'] = df['rate-space'] - df['rate-d-space']\n",
    "df['space-delta-percent-rate-rate-d'] = (df['rate-space'] - df['rate-d-space']) / df['rate-space']\n",
    "df['rate-reason-deletions-not-shrinking-trail'] = (df['rate-reason-deletions'] -\n",
    "   df['rate-reason-deletions-shrinking-trail'])\n",
    "\n",
    "verified = 'verified'\n",
    "verified = 'lrat-check pending' # not run again\n",
    "\n",
    "df['space-delta-rate-drat-trim'] = df['rate-space'] - df['drat-trim-space']\n",
    "\n",
    "vf = df[ (df['rate-result'] == verified)\n",
    "         & (df['rate-d-result'] == verified)\n",
    "         & (df['drat-trim-result'] == verified)\n",
    "         & (df['gratgen-result'] == 'verified')\n",
    "]\n",
    "rvf = df[ (df['rate-result'] == verified) & (df['rate-d-result'] == verified) ]\n"
   ]
  },
  {
   "cell_type": "code",
   "execution_count": 269,
   "metadata": {
    "autoscroll": false,
    "collapsed": false,
    "ein.hycell": false,
    "ein.tags": "worksheet-0",
    "slideshow": {
     "slide_type": "-"
    }
   },
   "outputs": [
    {
     "data": {
      "text/html": [
       "<div>\n<style scoped>\n    .dataframe tbody tr th:only-of-type {\n        vertical-align: middle;\n    }\n\n    .dataframe tbody tr th {\n        vertical-align: top;\n    }\n\n    .dataframe thead th {\n        text-align: right;\n    }\n</style>\n<table border=\"1\" class=\"dataframe\">\n  <thead>\n    <tr style=\"text-align: right;\">\n      <th></th>\n      <th>instance</th>\n      <th>solver</th>\n      <th>stime</th>\n      <th>sresult</th>\n      <th>rate-result</th>\n      <th>rate-time</th>\n      <th>rate-space</th>\n      <th>rate-solution</th>\n      <th>rate-verified</th>\n      <th>rate-reason-deletions</th>\n      <th>...</th>\n      <th>drat-trim-time</th>\n      <th>drat-trim-space</th>\n      <th>drat-trim-solution</th>\n      <th>drat-trim-verified</th>\n      <th>time-delta-rate-rate-d</th>\n      <th>time-delta-percent-rate-rate-d</th>\n      <th>space-delta-rate-rate-d</th>\n      <th>space-delta-percent-rate-rate-d</th>\n      <th>rate-reason-deletions-not-shrinking-trail</th>\n      <th>space-delta-rate-drat-trim</th>\n    </tr>\n  </thead>\n  <tbody>\n    <tr>\n      <th>469</th>\n      <td>by-X-2-7-100</td>\n      <td>abcdsat_r18@default</td>\n      <td>4607.07</td>\n      <td>UNSATISFIABLE</td>\n      <td>out of time</td>\n      <td>20000.12</td>\n      <td>465.0</td>\n      <td>error</td>\n      <td>NaN</td>\n      <td>NaN</td>\n      <td>...</td>\n      <td>NaN</td>\n      <td>NaN</td>\n      <td>NaN</td>\n      <td>NaN</td>\n      <td>NaN</td>\n      <td>NaN</td>\n      <td>NaN</td>\n      <td>NaN</td>\n      <td>NaN</td>\n      <td>NaN</td>\n    </tr>\n    <tr>\n      <th>1990</th>\n      <td>mchess_17</td>\n      <td>abcdsat_r18@default</td>\n      <td>3741.30</td>\n      <td>UNSATISFIABLE</td>\n      <td>out of time</td>\n      <td>20000.46</td>\n      <td>2613.3</td>\n      <td>error</td>\n      <td>NaN</td>\n      <td>NaN</td>\n      <td>...</td>\n      <td>NaN</td>\n      <td>NaN</td>\n      <td>NaN</td>\n      <td>NaN</td>\n      <td>NaN</td>\n      <td>NaN</td>\n      <td>NaN</td>\n      <td>NaN</td>\n      <td>NaN</td>\n      <td>NaN</td>\n    </tr>\n    <tr>\n      <th>2575</th>\n      <td>pals_lcr.8_overflow_false-unreach-call.ufo.UNB...</td>\n      <td>abcdsat_r18@default</td>\n      <td>1462.14</td>\n      <td>UNSATISFIABLE</td>\n      <td>out of time</td>\n      <td>20000.28</td>\n      <td>1035.3</td>\n      <td>error</td>\n      <td>NaN</td>\n      <td>NaN</td>\n      <td>...</td>\n      <td>NaN</td>\n      <td>NaN</td>\n      <td>NaN</td>\n      <td>NaN</td>\n      <td>NaN</td>\n      <td>NaN</td>\n      <td>NaN</td>\n      <td>NaN</td>\n      <td>NaN</td>\n      <td>NaN</td>\n    </tr>\n    <tr>\n      <th>2610</th>\n      <td>pals_lcr.8_overflow_false-unreach-call.ufo.UNB...</td>\n      <td>smallsat@default</td>\n      <td>3129.14</td>\n      <td>UNSATISFIABLE</td>\n      <td>out of time</td>\n      <td>20000.34</td>\n      <td>2245.3</td>\n      <td>error</td>\n      <td>NaN</td>\n      <td>NaN</td>\n      <td>...</td>\n      <td>16156.56</td>\n      <td>2208.2</td>\n      <td>TIMEOUT</td>\n      <td>NaN</td>\n      <td>NaN</td>\n      <td>NaN</td>\n      <td>NaN</td>\n      <td>NaN</td>\n      <td>NaN</td>\n      <td>37.1</td>\n    </tr>\n    <tr>\n      <th>2664</th>\n      <td>pals_lcr-var-start-time.6_true-unreach-call.uf...</td>\n      <td>GHackCOMSPS_drup@ghack_drup</td>\n      <td>2677.40</td>\n      <td>UNSATISFIABLE</td>\n      <td>out of memory</td>\n      <td>113.14</td>\n      <td>24029.4</td>\n      <td>error</td>\n      <td>NaN</td>\n      <td>NaN</td>\n      <td>...</td>\n      <td>91.85</td>\n      <td>24006.9</td>\n      <td>error</td>\n      <td>NaN</td>\n      <td>NaN</td>\n      <td>NaN</td>\n      <td>NaN</td>\n      <td>NaN</td>\n      <td>NaN</td>\n      <td>22.5</td>\n    </tr>\n    <tr>\n      <th>3171</th>\n      <td>queen8_12.col.12</td>\n      <td>GHackCOMSPS_drup@ghack_drup</td>\n      <td>4577.38</td>\n      <td>UNSATISFIABLE</td>\n      <td>out of time</td>\n      <td>20000.79</td>\n      <td>4737.5</td>\n      <td>error</td>\n      <td>NaN</td>\n      <td>NaN</td>\n      <td>...</td>\n      <td>NaN</td>\n      <td>NaN</td>\n      <td>NaN</td>\n      <td>NaN</td>\n      <td>NaN</td>\n      <td>NaN</td>\n      <td>NaN</td>\n      <td>NaN</td>\n      <td>NaN</td>\n      <td>NaN</td>\n    </tr>\n    <tr>\n      <th>3351</th>\n      <td>sdiv17prop</td>\n      <td>smallsat@default</td>\n      <td>1011.58</td>\n      <td>UNSATISFIABLE</td>\n      <td>out of time</td>\n      <td>20000.26</td>\n      <td>1681.7</td>\n      <td>error</td>\n      <td>NaN</td>\n      <td>NaN</td>\n      <td>...</td>\n      <td>NaN</td>\n      <td>NaN</td>\n      <td>NaN</td>\n      <td>NaN</td>\n      <td>NaN</td>\n      <td>NaN</td>\n      <td>NaN</td>\n      <td>NaN</td>\n      <td>NaN</td>\n      <td>NaN</td>\n    </tr>\n    <tr>\n      <th>4017</th>\n      <td>T92.2.0</td>\n      <td>CaDiCaL@DONTUNZIP-fixed</td>\n      <td>1840.69</td>\n      <td>UNSATISFIABLE</td>\n      <td>error</td>\n      <td>55.28</td>\n      <td>706.5</td>\n      <td>error</td>\n      <td>NaN</td>\n      <td>NaN</td>\n      <td>...</td>\n      <td>151.92</td>\n      <td>24015.8</td>\n      <td>error</td>\n      <td>NaN</td>\n      <td>NaN</td>\n      <td>NaN</td>\n      <td>NaN</td>\n      <td>NaN</td>\n      <td>NaN</td>\n      <td>-23309.3</td>\n    </tr>\n  </tbody>\n</table>\n<p>8 rows × 35 columns</p>\n</div>"
      ],
      "text/plain": [
       "                                               instance  \\\n469                                        by-X-2-7-100   \n1990                                          mchess_17   \n2575  pals_lcr.8_overflow_false-unreach-call.ufo.UNB...   \n2610  pals_lcr.8_overflow_false-unreach-call.ufo.UNB...   \n2664  pals_lcr-var-start-time.6_true-unreach-call.uf...   \n3171                                   queen8_12.col.12   \n3351                                         sdiv17prop   \n4017                                            T92.2.0   \n\n                           solver    stime        sresult    rate-result  \\\n469           abcdsat_r18@default  4607.07  UNSATISFIABLE    out of time   \n1990          abcdsat_r18@default  3741.30  UNSATISFIABLE    out of time   \n2575          abcdsat_r18@default  1462.14  UNSATISFIABLE    out of time   \n2610             smallsat@default  3129.14  UNSATISFIABLE    out of time   \n2664  GHackCOMSPS_drup@ghack_drup  2677.40  UNSATISFIABLE  out of memory   \n3171  GHackCOMSPS_drup@ghack_drup  4577.38  UNSATISFIABLE    out of time   \n3351             smallsat@default  1011.58  UNSATISFIABLE    out of time   \n4017      CaDiCaL@DONTUNZIP-fixed  1840.69  UNSATISFIABLE          error   \n\n      rate-time  rate-space rate-solution  rate-verified  \\\n469    20000.12       465.0         error            NaN   \n1990   20000.46      2613.3         error            NaN   \n2575   20000.28      1035.3         error            NaN   \n2610   20000.34      2245.3         error            NaN   \n2664     113.14     24029.4         error            NaN   \n3171   20000.79      4737.5         error            NaN   \n3351   20000.26      1681.7         error            NaN   \n4017      55.28       706.5         error            NaN   \n\n      rate-reason-deletions  ...  drat-trim-time  drat-trim-space  \\\n469                     NaN  ...             NaN              NaN   \n1990                    NaN  ...             NaN              NaN   \n2575                    NaN  ...             NaN              NaN   \n2610                    NaN  ...        16156.56           2208.2   \n2664                    NaN  ...           91.85          24006.9   \n3171                    NaN  ...             NaN              NaN   \n3351                    NaN  ...             NaN              NaN   \n4017                    NaN  ...          151.92          24015.8   \n\n      drat-trim-solution drat-trim-verified  time-delta-rate-rate-d  \\\n469                  NaN                NaN                     NaN   \n1990                 NaN                NaN                     NaN   \n2575                 NaN                NaN                     NaN   \n2610             TIMEOUT                NaN                     NaN   \n2664               error                NaN                     NaN   \n3171                 NaN                NaN                     NaN   \n3351                 NaN                NaN                     NaN   \n4017               error                NaN                     NaN   \n\n      time-delta-percent-rate-rate-d space-delta-rate-rate-d  \\\n469                              NaN                     NaN   \n1990                             NaN                     NaN   \n2575                             NaN                     NaN   \n2610                             NaN                     NaN   \n2664                             NaN                     NaN   \n3171                             NaN                     NaN   \n3351                             NaN                     NaN   \n4017                             NaN                     NaN   \n\n      space-delta-percent-rate-rate-d  \\\n469                               NaN   \n1990                              NaN   \n2575                              NaN   \n2610                              NaN   \n2664                              NaN   \n3171                              NaN   \n3351                              NaN   \n4017                              NaN   \n\n      rate-reason-deletions-not-shrinking-trail space-delta-rate-drat-trim  \n469                                         NaN                        NaN  \n1990                                        NaN                        NaN  \n2575                                        NaN                        NaN  \n2610                                        NaN                       37.1  \n2664                                        NaN                       22.5  \n3171                                        NaN                        NaN  \n3351                                        NaN                        NaN  \n4017                                        NaN                   -23309.3  \n\n[8 rows x 35 columns]"
      ]
     },
     "execution_count": 269,
     "metadata": {},
     "output_type": "execute_result"
    }
   ],
   "source": [
    "df[df['rate-solution'] == 'error']"
   ]
  },
  {
   "cell_type": "code",
   "execution_count": 264,
   "metadata": {
    "autoscroll": false,
    "collapsed": false,
    "ein.hycell": false,
    "ein.tags": "worksheet-0",
    "slideshow": {
     "slide_type": "-"
    }
   },
   "outputs": [
    {
     "name": "stdout",
     "output_type": "stream",
     "text": [
      "by-X-2-7-100 abcdsat_r18@default\n",
      "mchess_17 abcdsat_r18@default\n",
      "pals_lcr.8_overflow_false-unreach-call.ufo.UNBOUNDED.pals.c abcdsat_r18@default\n",
      "pals_lcr.8_overflow_false-unreach-call.ufo.UNBOUNDED.pals.c smallsat@default\n",
      "pals_lcr-var-start-time.6_true-unreach-call.ufo.UNBOUNDED.pals.c GHackCOMSPS_drup@ghack_drup\n",
      "queen8_12.col.12 GHackCOMSPS_drup@ghack_drup\n",
      "sdiv17prop smallsat@default\n",
      "T92.2.0 CaDiCaL@DONTUNZIP-fixed\n"
     ]
    }
   ],
   "source": [
    "for i, a in df[df['rate-solution'] == 'error'][['instance', 'solver']].iterrows():\n",
    "    print(a['instance'], a['solver'])"
   ]
  },
  {
   "cell_type": "code",
   "execution_count": 123,
   "metadata": {
    "autoscroll": false,
    "collapsed": false,
    "ein.hycell": false,
    "ein.tags": "worksheet-0",
    "slideshow": {
     "slide_type": "-"
    }
   },
   "outputs": [],
   "source": [
    "checkers = 'rate', 'rate-d', 'drat-trim', 'gratgen'\n",
    "LABELS = {\n",
    "    'space': 'memory usage (MB)',\n",
    "    'time': 'runtime (s)',\n",
    "    'rate-reason-deletions': 'reason deletions',\n",
    "    'rate-reason-deletions-shrinking-trail': 'non-redundant reason deletions',\n",
    "    'rate-reason-deletions-not-shrinking-trail': 'redundant reason deletions',\n",
    "}\n",
    "COLORS = {\n",
    "    'rate': 'red',\n",
    "    'rate-d': 'orange',\n",
    "    'drat-trim': 'darkcyan',\n",
    "    'gratgen': 'blue',\n",
    "}\n",
    "MARKERS = {\n",
    "    'rate': '1',\n",
    "    'rate-d': '2',\n",
    "    'drat-trim': '3',\n",
    "    'gratgen': '4',\n",
    "}\n",
    "\n",
    "for c1 in checkers:\n",
    "    # LABELS[f'{c1}-time'] = f'{c1} runtime (s)'\n",
    "    # LABELS[f'{c1}-space'] = f'{c1} memory usage (MB)'\n",
    "    LABELS[f'{c1}-time'] = ''\n",
    "    LABELS[f'{c1}-space'] = ''\n",
    "    for c2 in checkers:\n",
    "        # LABELS[f'time-delta-{c1}-{c2}'] = f'runtime overhead of {c1} compared to {c2}'\n",
    "        # LABELS[f'time-delta-percent-{c1}-{c2}'] = f'runtime overhead of {c1} compared to {c2}'\n",
    "        # LABELS[f'space-delta-{c1}-{c2}'] = f'memory usage overhead of {c1} compared to {c2}'\n",
    "        # LABELS[f'space-delta-percent-{c1}-{c2}'] = f'memory usage overhead of {c1} compared to {c2}'\n",
    "        LABELS[f'time-delta-percent-{c1}-{c2}'] = f'runtime'\n",
    "        LABELS[f'space-delta-percent-{c1}-{c2}'] = f'memory usage'\n",
    "\n",
    "def sort_by_col(df, col):\n",
    "    tmp = df.sort_values(col)\n",
    "    tmp['index'] = np.arange(len(tmp))\n",
    "    return tmp\n",
    "\n",
    "def set_labels(ax, x=None, y=None):\n",
    "    if x is not None:\n",
    "        ax.set_xlabel(LABELS[x])\n",
    "    if y is not None:\n",
    "        ax.set_ylabel(LABELS[y])\n",
    "\n",
    "def boxplot(df, y, cs=checkers, **kwargs):\n",
    "    ax = df[[f'{checker}-{y}' for checker in checkers]].boxplot()\n",
    "    set_labels(ax, y=y)\n",
    "\n",
    "def compare(ax, df, y, cs=checkers, **kwargs):\n",
    "    x = list(range(len(df)))\n",
    "    for checker in cs:\n",
    "        sort_by_col(df, f'{checker}-{y}').plot(x='index', y=f'{checker}-{y}', ax=ax, \\\n",
    "                                               kind='scatter', marker=MARKERS[checker],\n",
    "                                               color=COLORS[checker], label=checker, **kwargs)\n",
    "    ax.legend(loc='upper left')\n",
    "    plt.xlabel('proofs verified by all checkers')\n",
    "    set_labels(ax, y=y)\n",
    "\n",
    "def crossplot(df, x, y):\n",
    "    limit = max(df[x].max(), df[y].max()) * 1.02\n",
    "    ax = df.plot(x, y, kind='scatter', marker='1', xlim=(0, limit), ylim=(0, limit))\n",
    "    ax.plot((0, limit), (0, limit), color='green', linestyle='dashed', linewidth=1)\n",
    "    set_labels(ax, x, y)\n",
    "\n",
    "def correlation(ax, df, x, y, percent=False, **kwargs):\n",
    "    rvf.plot(x, y, ax=ax, kind='scatter', marker='3', **kwargs);\n",
    "    limit = df[x].max()\n",
    "    ax.plot((0, limit), (0, 0), color='green', linestyle='dashed', linewidth=1)\n",
    "    if percent:\n",
    "        ax.yaxis.set_major_formatter(mtick.FuncFormatter(lambda y, _: f'{y:.0%}'.replace('%', r'\\%')))\n",
    "    set_labels(ax, x, y)\n",
    "\n",
    "SAVE_FIGURES = 1\n",
    "def persist(name, needPDF=True, needSVG=False, needPNG=False):\n",
    "    if SAVE_FIGURES:\n",
    "        if needPDF: plt.savefig(f'p/{name}.pdf')\n",
    "        if needSVG: plt.savefig(f'p/{name}.svg')\n",
    "        if needPNG: plt.savefig(f'p/{name}.png')"
   ]
  },
  {
   "cell_type": "code",
   "execution_count": 124,
   "metadata": {
    "autoscroll": false,
    "collapsed": false,
    "ein.hycell": false,
    "ein.tags": "worksheet-0",
    "slideshow": {
     "slide_type": "-"
    }
   },
   "outputs": [
    {
     "data": {
      "text/html": [
       "<div>\n<style scoped>\n    .dataframe tbody tr th:only-of-type {\n        vertical-align: middle;\n    }\n\n    .dataframe tbody tr th {\n        vertical-align: top;\n    }\n\n    .dataframe thead th {\n        text-align: right;\n    }\n</style>\n<table border=\"1\" class=\"dataframe\">\n  <thead>\n    <tr style=\"text-align: right;\">\n      <th></th>\n      <th>rate-time</th>\n      <th>rate-d-time</th>\n      <th>drat-trim-time</th>\n      <th>gratgen-time</th>\n    </tr>\n  </thead>\n  <tbody>\n    <tr>\n      <th>count</th>\n      <td>810.000000</td>\n      <td>810.000000</td>\n      <td>810.000000</td>\n      <td>810.000000</td>\n    </tr>\n    <tr>\n      <th>mean</th>\n      <td>1379.300222</td>\n      <td>1319.767926</td>\n      <td>1626.197321</td>\n      <td>1117.911790</td>\n    </tr>\n    <tr>\n      <th>std</th>\n      <td>1979.374855</td>\n      <td>1882.517768</td>\n      <td>2466.341800</td>\n      <td>1703.778599</td>\n    </tr>\n    <tr>\n      <th>min</th>\n      <td>0.460000</td>\n      <td>0.410000</td>\n      <td>0.450000</td>\n      <td>0.310000</td>\n    </tr>\n    <tr>\n      <th>25%</th>\n      <td>215.750000</td>\n      <td>207.747500</td>\n      <td>204.145000</td>\n      <td>130.792500</td>\n    </tr>\n    <tr>\n      <th>50%</th>\n      <td>676.875000</td>\n      <td>664.075000</td>\n      <td>763.315000</td>\n      <td>550.315000</td>\n    </tr>\n    <tr>\n      <th>75%</th>\n      <td>1752.297500</td>\n      <td>1588.492500</td>\n      <td>1763.387500</td>\n      <td>1209.812500</td>\n    </tr>\n    <tr>\n      <th>max</th>\n      <td>16552.510000</td>\n      <td>14813.800000</td>\n      <td>15773.410000</td>\n      <td>11609.950000</td>\n    </tr>\n  </tbody>\n</table>\n</div>"
      ],
      "text/plain": [
       "          rate-time   rate-d-time  drat-trim-time  gratgen-time\ncount    810.000000    810.000000      810.000000    810.000000\nmean    1379.300222   1319.767926     1626.197321   1117.911790\nstd     1979.374855   1882.517768     2466.341800   1703.778599\nmin        0.460000      0.410000        0.450000      0.310000\n25%      215.750000    207.747500      204.145000    130.792500\n50%      676.875000    664.075000      763.315000    550.315000\n75%     1752.297500   1588.492500     1763.387500   1209.812500\nmax    16552.510000  14813.800000    15773.410000  11609.950000"
      ]
     },
     "execution_count": 124,
     "metadata": {},
     "output_type": "execute_result"
    }
   ],
   "source": [
    "vf[[f'{checker}-time' for checker in checkers]].describe()"
   ]
  },
  {
   "cell_type": "code",
   "execution_count": 125,
   "metadata": {
    "autoscroll": false,
    "collapsed": false,
    "ein.hycell": false,
    "ein.tags": "worksheet-0",
    "slideshow": {
     "slide_type": "-"
    }
   },
   "outputs": [],
   "source": [
    "# outliers = []\n",
    "# # rate-d high time\n",
    "# outliers += [vf['rate-d-time'].idxmax()]"
   ]
  },
  {
   "cell_type": "code",
   "execution_count": 126,
   "metadata": {
    "autoscroll": false,
    "collapsed": false,
    "ein.hycell": false,
    "ein.tags": "worksheet-0",
    "slideshow": {
     "slide_type": "-"
    }
   },
   "outputs": [],
   "source": [
    "# # high memory usage\n",
    "# outliers += [vf['rate-space'].idxmax()]"
   ]
  },
  {
   "cell_type": "code",
   "execution_count": 127,
   "metadata": {
    "autoscroll": false,
    "collapsed": false,
    "ein.hycell": false,
    "ein.tags": "worksheet-0",
    "slideshow": {
     "slide_type": "-"
    }
   },
   "outputs": [],
   "source": [
    "# # many reason deletions\n",
    "# outliers += [vf['rate-reason-deletions'].map(int).idxmax()]"
   ]
  },
  {
   "cell_type": "code",
   "execution_count": 128,
   "metadata": {
    "autoscroll": false,
    "collapsed": false,
    "ein.hycell": false,
    "ein.tags": "worksheet-0",
    "slideshow": {
     "slide_type": "-"
    }
   },
   "outputs": [],
   "source": [
    "# outliers += [vf['space-delta-rate-rate-d'].idxmax()]"
   ]
  },
  {
   "cell_type": "code",
   "execution_count": 129,
   "metadata": {
    "autoscroll": false,
    "collapsed": false,
    "ein.hycell": false,
    "ein.tags": "worksheet-0",
    "slideshow": {
     "slide_type": "-"
    }
   },
   "outputs": [],
   "source": [
    "# for outlier in outliers:\n",
    "#     row = vf.loc[outlier]\n",
    "#     print(f'{row.instance}/{row.solver}')"
   ]
  },
  {
   "cell_type": "code",
   "execution_count": 130,
   "metadata": {
    "autoscroll": false,
    "collapsed": false,
    "ein.hycell": false,
    "ein.tags": "worksheet-0",
    "slideshow": {
     "slide_type": "-"
    }
   },
   "outputs": [
    {
     "data": {
      "text/plain": [
       "Index(['instance', 'solver', 'stime', 'sresult', 'rate-result', 'rate-time',\n       'rate-space', 'rate-solution', 'rate-verified', 'rate-reason-deletions',\n       'rate-reason-deletions-shrinking-trail', 'rate-RAT-introductions',\n       'rate-RUP-introductions', 'rate-d-result', 'rate-d-time',\n       'rate-d-space', 'rate-d-solution', 'rate-d-verified',\n       'rate-d-reason-deletions', 'gratgen-result', 'gratgen-time',\n       'gratgen-space', 'gratgen-solution', 'gratgen-verified',\n       'drat-trim-result', 'drat-trim-time', 'drat-trim-space',\n       'drat-trim-solution', 'drat-trim-verified', 'time-delta-rate-rate-d',\n       'time-delta-percent-rate-rate-d', 'space-delta-rate-rate-d',\n       'space-delta-percent-rate-rate-d',\n       'rate-reason-deletions-not-shrinking-trail',\n       'space-delta-rate-drat-trim'],\n      dtype='object')"
      ]
     },
     "execution_count": 130,
     "metadata": {},
     "output_type": "execute_result"
    }
   ],
   "source": [
    "vf.columns"
   ]
  },
  {
   "cell_type": "code",
   "execution_count": 131,
   "metadata": {
    "autoscroll": false,
    "collapsed": false,
    "ein.hycell": false,
    "ein.tags": "worksheet-0",
    "scrolled": true,
    "slideshow": {
     "slide_type": "-"
    }
   },
   "outputs": [],
   "source": [
    "easy_problems = 700"
   ]
  },
  {
   "cell_type": "code",
   "execution_count": 227,
   "metadata": {
    "autoscroll": false,
    "collapsed": false,
    "ein.hycell": false,
    "ein.tags": "worksheet-0",
    "slideshow": {
     "slide_type": "-"
    }
   },
   "outputs": [
    {
     "data": {
      "image/png": "[encoded data removed]",
      "text/plain": [
       "<Figure size 720x1440 with 2 Axes>"
      ]
     },
     "metadata": {},
     "output_type": "display_data"
    }
   ],
   "source": [
    "def compare(ax, df, y, cs=checkers, **kwargs):\n",
    "    x = list(range(len(df)))\n",
    "    for checker in cs:\n",
    "        sort_by_col(df, f'{checker}-{y}').plot(x='index', y=f'{checker}-{y}', ax=ax, \\\n",
    "                                               kind='scatter', marker=MARKERS[checker],\n",
    "                                               color=COLORS[checker], label=checker, **kwargs)\n",
    "        ax.legend(loc='upper left')\n",
    "        plt.xlabel('proofs verified by all checkers')\n",
    "        set_labels(ax, y=y)\n",
    "\n",
    "fig, axes = plt.subplots(2, 1, sharex='all', figsize=(5, 10))\n",
    "ax1 = axes[0]\n",
    "ax2 = axes[1]\n",
    "# ax1 = plt.subplot(2, 1, 1)\n",
    "# ax2 = plt.subplot(2, 1, 2, sharex=ax1)\n",
    "compare(ax1, vf, 'time', xlim=(easy_problems, len(vf)))\n",
    "compare(ax2, vf, 'space', xlim=(easy_problems, len(vf)))\n",
    "ax2.legend_.remove()\n",
    "persist('cactus')"
   ]
  },
  {
   "cell_type": "code",
   "execution_count": 221,
   "metadata": {
    "autoscroll": false,
    "collapsed": false,
    "ein.hycell": false,
    "ein.tags": "worksheet-0",
    "slideshow": {
     "slide_type": "-"
    }
   },
   "outputs": [
    {
     "name": "stdout",
     "output_type": "stream",
     "text": [
      "Help on function subplot in module matplotlib.pyplot:\n",
      "\n",
      "subplot(*args, **kwargs)\n",
      "    Add a subplot to the current figure.\n",
      "    \n",
      "    Wrapper of `.Figure.add_subplot` with a difference in behavior\n",
      "    explained in the notes section.\n",
      "    \n",
      "    Call signatures::\n",
      "    \n",
      "       subplot(nrows, ncols, index, **kwargs)\n",
      "       subplot(pos, **kwargs)\n",
      "       subplot(ax)\n",
      "    \n",
      "    Parameters\n",
      "    ----------\n",
      "    *args\n",
      "        Either a 3-digit integer or three separate integers\n",
      "        describing the position of the subplot. If the three\n",
      "        integers are *nrows*, *ncols*, and *index* in order, the\n",
      "        subplot will take the *index* position on a grid with *nrows*\n",
      "        rows and *ncols* columns. *index* starts at 1 in the upper left\n",
      "        corner and increases to the right.\n",
      "    \n",
      "        *pos* is a three digit integer, where the first digit is the\n",
      "        number of rows, the second the number of columns, and the third\n",
      "        the index of the subplot. i.e. fig.add_subplot(235) is the same as\n",
      "        fig.add_subplot(2, 3, 5). Note that all integers must be less than\n",
      "        10 for this form to work.\n",
      "    \n",
      "    projection : {None, 'aitoff', 'hammer', 'lambert', 'mollweide', 'polar', 'rectilinear', str}, optional\n",
      "        The projection type of the subplot (`~.axes.Axes`). *str* is the name\n",
      "        of a costum projection, see `~matplotlib.projections`. The default\n",
      "        None results in a 'rectilinear' projection.\n",
      "    \n",
      "    polar : boolean, optional\n",
      "        If True, equivalent to projection='polar'.\n",
      "    \n",
      "    sharex, sharey : `~.axes.Axes`, optional\n",
      "        Share the x or y `~matplotlib.axis` with sharex and/or sharey. The\n",
      "        axis will have the same limits, ticks, and scale as the axis of the\n",
      "        shared axes.\n",
      "    \n",
      "    label : str\n",
      "        A label for the returned axes.\n",
      "    \n",
      "    Other Parameters\n",
      "    ----------------\n",
      "    **kwargs\n",
      "        This method also takes the keyword arguments for\n",
      "        the returned axes base class. The keyword arguments for the\n",
      "        rectilinear base class `~.axes.Axes` can be found in\n",
      "        the following table but there might also be other keyword\n",
      "        arguments if another projection is used.\n",
      "          adjustable: {'box', 'datalim'}\n",
      "      agg_filter: a filter function, which takes a (m, n, 3) float array and a dpi value, and returns a (m, n, 3) array \n",
      "      alpha: float\n",
      "      anchor: 2-tuple of floats or {'C', 'SW', 'S', 'SE', ...}\n",
      "      animated: bool\n",
      "      aspect: {'auto', 'equal'} or num\n",
      "      autoscale_on: bool\n",
      "      autoscalex_on: bool\n",
      "      autoscaley_on: bool\n",
      "      axes_locator: Callable[[Axes, Renderer], Bbox]\n",
      "      axisbelow: bool or 'line'\n",
      "      clip_box: `.Bbox`\n",
      "      clip_on: bool\n",
      "      clip_path: [(`~matplotlib.path.Path`, `.Transform`) | `.Patch` | None] \n",
      "      contains: callable\n",
      "      facecolor: color\n",
      "      fc: color\n",
      "      figure: `.Figure`\n",
      "      frame_on: bool\n",
      "      gid: str\n",
      "      in_layout: bool\n",
      "      label: object\n",
      "      navigate: bool\n",
      "      navigate_mode: unknown\n",
      "      path_effects: `.AbstractPathEffect`\n",
      "      picker: None or bool or float or callable\n",
      "      position: [left, bottom, width, height] or `~matplotlib.transforms.Bbox`\n",
      "      rasterization_zorder: float or None\n",
      "      rasterized: bool or None\n",
      "      sketch_params: (scale: float, length: float, randomness: float) \n",
      "      snap: bool or None\n",
      "      title: str\n",
      "      transform: `.Transform`\n",
      "      url: str\n",
      "      visible: bool\n",
      "      xbound: unknown\n",
      "      xlabel: str\n",
      "      xlim: (left: float, right: float)\n",
      "      xmargin: float greater than -0.5\n",
      "      xscale: {\"linear\", \"log\", \"symlog\", \"logit\", ...}\n",
      "      xticklabels: List[str]\n",
      "      xticks: list\n",
      "      ybound: unknown\n",
      "      ylabel: str\n",
      "      ylim: (bottom: float, top: float)\n",
      "      ymargin: float greater than -0.5\n",
      "      yscale: {\"linear\", \"log\", \"symlog\", \"logit\", ...}\n",
      "      yticklabels: List[str]\n",
      "      yticks: list\n",
      "      zorder: float\n",
      "    \n",
      "    Returns\n",
      "    -------\n",
      "    axes : an `.axes.SubplotBase` subclass of `~.axes.Axes` (or a subclass     of `~.axes.Axes`)\n",
      "    \n",
      "        The axes of the subplot. The returned axes base class depends on\n",
      "        the projection used. It is `~.axes.Axes` if rectilinear projection\n",
      "        are used and `.projections.polar.PolarAxes` if polar projection\n",
      "        are used. The returned axes is then a subplot subclass of the\n",
      "        base class.\n",
      "    \n",
      "    Notes\n",
      "    -----\n",
      "    Creating a subplot will delete any pre-existing subplot that overlaps\n",
      "    with it beyond sharing a boundary::\n",
      "    \n",
      "        import matplotlib.pyplot as plt\n",
      "        # plot a line, implicitly creating a subplot(111)\n",
      "        plt.plot([1,2,3])\n",
      "        # now create a subplot which represents the top plot of a grid\n",
      "        # with 2 rows and 1 column. Since this subplot will overlap the\n",
      "        # first, the plot (and its axes) previously created, will be removed\n",
      "        plt.subplot(211)\n",
      "    \n",
      "    If you do not want this behavior, use the `.Figure.add_subplot` method\n",
      "    or the `.pyplot.axes` function instead.\n",
      "    \n",
      "    If the figure already has a subplot with key (*args*,\n",
      "    *kwargs*) then it will simply make that subplot current and\n",
      "    return it.  This behavior is deprecated. Meanwhile, if you do\n",
      "    not want this behavior (i.e., you want to force the creation of a\n",
      "    new suplot), you must use a unique set of args and kwargs.  The axes\n",
      "    *label* attribute has been exposed for this purpose: if you want\n",
      "    two subplots that are otherwise identical to be added to the figure,\n",
      "    make sure you give them unique labels.\n",
      "    \n",
      "    In rare circumstances, `.add_subplot` may be called with a single\n",
      "    argument, a subplot axes instance already created in the\n",
      "    present figure but not in the figure's list of axes.\n",
      "    \n",
      "    See Also\n",
      "    --------\n",
      "    .Figure.add_subplot\n",
      "    .pyplot.subplots\n",
      "    .pyplot.axes\n",
      "    .Figure.subplots\n",
      "    \n",
      "    Examples\n",
      "    --------\n",
      "    ::\n",
      "    \n",
      "        plt.subplot(221)\n",
      "    \n",
      "        # equivalent but more general\n",
      "        ax1=plt.subplot(2, 2, 1)\n",
      "    \n",
      "        # add a subplot with no frame\n",
      "        ax2=plt.subplot(222, frameon=False)\n",
      "    \n",
      "        # add a polar subplot\n",
      "        plt.subplot(223, projection='polar')\n",
      "    \n",
      "        # add a red subplot that shares the x-axis with ax1\n",
      "        plt.subplot(224, sharex=ax1, facecolor='red')\n",
      "    \n",
      "        #delete ax2 from the figure\n",
      "        plt.delaxes(ax2)\n",
      "    \n",
      "        #add ax2 to the figure again\n",
      "        plt.subplot(ax2)\n",
      "\n"
     ]
    }
   ],
   "source": [
    "help(plt.subplot)"
   ]
  },
  {
   "cell_type": "code",
   "execution_count": 216,
   "metadata": {
    "autoscroll": false,
    "collapsed": false,
    "ein.hycell": false,
    "ein.tags": "worksheet-0",
    "slideshow": {
     "slide_type": "-"
    }
   },
   "outputs": [
    {
     "data": {
      "image/png": "[encoded data removed]",
      "text/plain": [
       "<Figure size 432x432 with 6 Axes>"
      ]
     },
     "metadata": {},
     "output_type": "display_data"
    }
   ],
   "source": [
    "def mcrossplot(ax, df, x, y, **kwargs):\n",
    "    # limit = max(df[x].max(), df[y].max()) * 1.02\n",
    "    if 'time' in x:\n",
    "        limit = 20000\n",
    "    else:\n",
    "        limit = 24 * (2**10) # 24 GB in MB\n",
    "        limit = 10 * (2**10) # 10 GB\n",
    "        assert max(df[x].max(), df[y].max()) < limit\n",
    "    df.plot(x, y, kind='scatter', marker='1', xlim=(0, limit), ylim=(0, limit), ax=ax, **kwargs)\n",
    "    ax.plot((0, limit), (0, limit), color='green', linestyle='dashed', linewidth=1)\n",
    "\n",
    "fig, axes = plt.subplots(3, 2, figsize=(10, 10), subplot_kw={'aspect': 'equal'}, sharex='all', sharey='all')\n",
    "# plt.subplots_adjust(left=.125, bottom=.1, right=.9, top=.9, wspace=.3, hspace=.2)\n",
    "# plt.subplots_adjust(left=0, bottom=0, right=1, top=1, wspace=0, hspace=0)\n",
    "# plt.subplots_adjust(hspace=.0)\n",
    "ax1, ax2 = axes[0]\n",
    "ax3, ax4 = axes[1]\n",
    "ax5, ax6 = axes[2]\n",
    "\n",
    "mcrossplot(ax1, vf, 'rate-d-time', 'rate-time')\n",
    "mcrossplot(ax2, vf, 'rate-d-space', 'rate-space')\n",
    "mcrossplot(ax3, vf, 'rate-d-time', 'drat-trim-time')\n",
    "mcrossplot(ax4, vf, 'rate-d-space', 'drat-trim-space')\n",
    "mcrossplot(ax5, vf, 'rate-d-time', 'gratgen-time')\n",
    "mcrossplot(ax6, vf, 'rate-d-space', 'gratgen-space')\n",
    "plt.tight_layout()\n",
    "\n",
    "ax1.set_title('runtime')\n",
    "ax2.set_title('memory')\n",
    "ax1.set_ylabel('rate')\n",
    "ax3.set_ylabel('drat-trim')\n",
    "ax5.set_ylabel('gratgen')\n",
    "ax5.set_xlabel('rate-d')\n",
    "persist('cross')\n"
   ]
  },
  {
   "cell_type": "code",
   "execution_count": 212,
   "metadata": {
    "autoscroll": false,
    "collapsed": false,
    "ein.hycell": false,
    "ein.tags": "worksheet-0",
    "slideshow": {
     "slide_type": "-"
    }
   },
   "outputs": [
    {
     "data": {
      "image/png": "[encoded data removed]",
      "text/plain": [
       "<Figure size 432x288 with 2 Axes>"
      ]
     },
     "metadata": {},
     "output_type": "display_data"
    }
   ],
   "source": [
    "pclim = (0, 1)\n",
    "assert df['time-delta-percent-rate-rate-d'].max() < 1\n",
    "assert df['space-delta-percent-rate-rate-d'].max() < 1\n",
    "ax1 = plt.subplot(2, 1, 1, ylim=pclim)\n",
    "ax2 = plt.subplot(2, 1, 2, ylim=pclim, sharex=ax1)\n",
    "correlation(ax1, rvf, 'rate-reason-deletions', 'time-delta-percent-rate-rate-d', percent=True)\n",
    "correlation(ax2, rvf, 'rate-reason-deletions', 'space-delta-percent-rate-rate-d', percent=True)\n",
    "persist('correlation-reason-deletions')"
   ]
  },
  {
   "cell_type": "markdown",
   "metadata": {
    "ein.tags": "worksheet-0",
    "slideshow": {
     "slide_type": "-"
    }
   },
   "source": [
    "# Poster"
   ]
  },
  {
   "cell_type": "code",
   "execution_count": null,
   "metadata": {
    "autoscroll": false,
    "collapsed": false,
    "ein.hycell": false,
    "ein.tags": "worksheet-0",
    "slideshow": {
     "slide_type": "-"
    }
   },
   "outputs": [
    {
     "data": {
      "image/png": "[encoded data removed]",
      "text/plain": [
       "<Figure size 432x288 with 1 Axes>"
      ]
     },
     "metadata": {},
     "output_type": "display_data"
    }
   ],
   "source": [
    "compare(plt.subplot(), vf, 'time', xlim=(easy_problems, len(vf)), cs=('rate', 'drat-trim', 'gratgen')); persist('cactus-time3')"
   ]
  },
  {
   "cell_type": "code",
   "execution_count": 104,
   "metadata": {
    "autoscroll": false,
    "collapsed": false,
    "ein.hycell": false,
    "ein.tags": "worksheet-0",
    "slideshow": {
     "slide_type": "-"
    }
   },
   "outputs": [
    {
     "data": {
      "image/png": "[encoded data removed]",
      "text/plain": [
       "<Figure size 432x288 with 1 Axes>"
      ]
     },
     "metadata": {},
     "output_type": "display_data"
    }
   ],
   "source": [
    "c1, c2 = 'rate', 'rate-d'\n",
    "LABELS[f'time-delta-percent-{c1}-{c2}'] = f'runtime overhead of {c1} compared to {c2}'\n",
    "correlation(plt.subplot(), rvf, 'rate-reason-deletions', 'time-delta-percent-rate-rate-d', percent=True); persist('correlation-reason-deletions-time-delta-percent')"
   ]
  }
 ],
 "metadata": {
  "kernelspec": {
   "argv": [
    "/home/johannes/.local/share/virtualenvs/rate-experiments-tykjKrLM/bin/python",
    "-m",
    "ipykernel_launcher",
    "-f",
    "{connection_file}"
   ],
   "display_name": "rate-experiments",
   "env": null,
   "interrupt_mode": "signal",
   "language": "python",
   "metadata": null,
   "name": "rate-experiments"
  },
  "language_info": {
   "codemirror_mode": {
    "name": "ipython",
    "version": 3
   },
   "file_extension": ".py",
   "mimetype": "text/x-python",
   "name": "python",
   "nbconvert_exporter": "python",
   "pygments_lexer": "ipython3",
   "version": "3.7.4"
  },
  "name": "plots.ipynb"
 },
 "nbformat": 4,
 "nbformat_minor": 2
}
